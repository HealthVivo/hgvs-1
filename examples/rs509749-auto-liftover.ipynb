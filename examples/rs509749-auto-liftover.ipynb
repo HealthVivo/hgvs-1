{
 "metadata": {
  "name": "",
  "signature": "sha256:7e1b0d2f273907ae9eec6c4944eb279cb1ffd1960cd8a33b2e7b95461f71a1a7"
 },
 "nbformat": 3,
 "nbformat_minor": 0,
 "worksheets": [
  {
   "cells": [
    {
     "cell_type": "heading",
     "level": 1,
     "metadata": {},
     "source": [
      "Automated liftover of NM_001261456.1:c.1762A>G (rs509749) to NM_001261457.1 via GRCh37"
     ]
    },
    {
     "cell_type": "raw",
     "metadata": {},
     "source": [
      "Automatically project variant from one transcript to another via common reference.\n",
      "http://www.ncbi.nlm.nih.gov/projects/SNP/snp_ref.cgi?rs=509749"
     ]
    },
    {
     "cell_type": "code",
     "collapsed": false,
     "input": [
      "import hgvs.parser\n",
      "hgvsparser = hgvs.parser.Parser()\n",
      "var_c1 = hgvsparser.parse_hgvs_variant('NM_001261456.1:c.1762A>G')"
     ],
     "language": "python",
     "metadata": {
      "slideshow": {
       "slide_type": "slide"
      }
     },
     "outputs": [],
     "prompt_number": 1
    },
    {
     "cell_type": "code",
     "collapsed": false,
     "input": [
      "import hgvs.dataproviders.uta\n",
      "u1 = hgvs.dataproviders.uta.connect()"
     ],
     "language": "python",
     "metadata": {
      "slideshow": {
       "slide_type": "slide"
      }
     },
     "outputs": [],
     "prompt_number": 2
    },
    {
     "cell_type": "code",
     "collapsed": false,
     "input": [
      "import hgvs.projector\n",
      "pj = hgvs.projector.Projector(hdp=u1,\n",
      "                              alt_ac='NC_000001.10',\n",
      "                              src_ac=var_c1.ac,\n",
      "                              dst_ac='NM_001261457.1')"
     ],
     "language": "python",
     "metadata": {},
     "outputs": [],
     "prompt_number": 3
    },
    {
     "cell_type": "code",
     "collapsed": false,
     "input": [
      "pj.project_variant_forward(var_c1)"
     ],
     "language": "python",
     "metadata": {},
     "outputs": [
      {
       "metadata": {},
       "output_type": "pyout",
       "prompt_number": 4,
       "text": [
        "SequenceVariant(ac=NM_001261457.1, type=c, posedit=1534A>G)"
       ]
      }
     ],
     "prompt_number": 4
    },
    {
     "cell_type": "code",
     "collapsed": false,
     "input": [],
     "language": "python",
     "metadata": {},
     "outputs": [],
     "prompt_number": 4
    }
   ],
   "metadata": {}
  }
 ]
}